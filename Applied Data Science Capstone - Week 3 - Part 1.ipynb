{
 "cells": [
  {
   "cell_type": "markdown",
   "metadata": {},
   "source": [
    "Importing all the libraries"
   ]
  },
  {
   "cell_type": "code",
   "execution_count": 1,
   "metadata": {},
   "outputs": [],
   "source": [
    "import numpy as np\n",
    "import pandas as pd\n",
    "import requests\n",
    "from bs4 import BeautifulSoup"
   ]
  },
  {
   "cell_type": "markdown",
   "metadata": {},
   "source": [
    "Making a beautifulsoup object given the site link."
   ]
  },
  {
   "cell_type": "code",
   "execution_count": 2,
   "metadata": {},
   "outputs": [],
   "source": [
    "URL = 'https://en.wikipedia.org/w/index.php?title=List_of_postal_codes_of_Canada:_M&direction=prev&oldid=926287641'\n",
    "page = requests.get(URL)\n",
    "\n",
    "soup = BeautifulSoup(page.content, 'html.parser')"
   ]
  },
  {
   "cell_type": "markdown",
   "metadata": {},
   "source": [
    "Finding the table in the html code."
   ]
  },
  {
   "cell_type": "code",
   "execution_count": 3,
   "metadata": {},
   "outputs": [],
   "source": [
    "table=soup.find('table')"
   ]
  },
  {
   "cell_type": "markdown",
   "metadata": {},
   "source": [
    "Creating an inital rough table with all the details."
   ]
  },
  {
   "cell_type": "code",
   "execution_count": 4,
   "metadata": {},
   "outputs": [],
   "source": [
    "table_contents=[]\n",
    "for row in table.findAll('tr')[1:]:\n",
    "    cell = {}\n",
    "    if row.findAll('td')[1:2][0].text=='Not assigned':     ## If 'Borough' is 'Not assigned' then we simply ignore the row\n",
    "        pass\n",
    "    else:\n",
    "        cell['PostalCode'] = row.td.text[:3]\n",
    "        cell['Borough'] = row.findAll('td')[1:2][0].text.strip(\"\\n\")\n",
    "        \n",
    "        ## If 'Neighborhood' is 'Not assigned' then we give it the value from 'Borough'\n",
    "        if row.findAll('td')[2:3][0].text == 'Not assigned\\n':\n",
    "            cell['Neighborhood'] = row.findAll('td')[1:2][0].text.strip(\"\\n\")\n",
    "        else:\n",
    "            cell['Neighborhood'] = row.findAll('td')[2:3][0].text.strip(\"\\n\")\n",
    "        \n",
    "        ## Appending it to the list\n",
    "        table_contents.append(cell)"
   ]
  },
  {
   "cell_type": "markdown",
   "metadata": {},
   "source": [
    "Converting list to dataframes."
   ]
  },
  {
   "cell_type": "code",
   "execution_count": 5,
   "metadata": {},
   "outputs": [],
   "source": [
    "df=pd.DataFrame(table_contents)"
   ]
  },
  {
   "cell_type": "markdown",
   "metadata": {},
   "source": [
    "Combining cells with same 'Postal Code'."
   ]
  },
  {
   "cell_type": "code",
   "execution_count": 6,
   "metadata": {},
   "outputs": [
    {
     "name": "stdout",
     "output_type": "stream",
     "text": [
      "    PostalCode           Borough  \\\n",
      "0          M3A        North York   \n",
      "1          M4A        North York   \n",
      "2          M5A  Downtown Toronto   \n",
      "4          M6A        North York   \n",
      "6          M7A      Queen's Park   \n",
      "..         ...               ...   \n",
      "193        M8X         Etobicoke   \n",
      "196        M4Y  Downtown Toronto   \n",
      "197        M7Y      East Toronto   \n",
      "198        M8Y         Etobicoke   \n",
      "206        M8Z         Etobicoke   \n",
      "\n",
      "                                          Neighborhood  \n",
      "0                                            Parkwoods  \n",
      "1                                     Victoria Village  \n",
      "2                             Harbourfront Regent Park  \n",
      "4                      Lawrence Heights Lawrence Manor  \n",
      "6                                         Queen's Park  \n",
      "..                                                 ...  \n",
      "193        The Kingsway Montgomery Road Old Mill North  \n",
      "196                               Church and Wellesley  \n",
      "197  Business Reply Mail Processing Centre 969 Eastern  \n",
      "198  Humber Bay King's Mill Park Kingsway Park Sout...  \n",
      "206  Kingsway Park South West Mimico NW The Queensw...  \n",
      "\n",
      "[103 rows x 3 columns]\n"
     ]
    }
   ],
   "source": [
    "df['Neighborhood'] = df.groupby(['PostalCode', 'Borough'])['Neighborhood'].transform(lambda x: ' '.join(x))\n",
    "df = df.drop_duplicates()\n",
    "print(df.head(10))"
   ]
  },
  {
   "cell_type": "markdown",
   "metadata": {},
   "source": [
    "Printing the shape."
   ]
  },
  {
   "cell_type": "code",
   "execution_count": 7,
   "metadata": {},
   "outputs": [
    {
     "name": "stdout",
     "output_type": "stream",
     "text": [
      "(103, 3)\n"
     ]
    }
   ],
   "source": [
    "print(df.shape)"
   ]
  }
 ],
 "metadata": {
  "kernelspec": {
   "display_name": "Python 3",
   "language": "python",
   "name": "python3"
  },
  "language_info": {
   "codemirror_mode": {
    "name": "ipython",
    "version": 3
   },
   "file_extension": ".py",
   "mimetype": "text/x-python",
   "name": "python",
   "nbconvert_exporter": "python",
   "pygments_lexer": "ipython3",
   "version": "3.8.5"
  }
 },
 "nbformat": 4,
 "nbformat_minor": 4
}
