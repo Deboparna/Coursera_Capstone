{
 "cells": [
  {
   "cell_type": "markdown",
   "metadata": {},
   "source": [
    "# Part 1 - Creating Initial Dataframe"
   ]
  },
  {
   "cell_type": "markdown",
   "metadata": {},
   "source": [
    "Importing all the libraries"
   ]
  },
  {
   "cell_type": "code",
   "execution_count": 1,
   "metadata": {},
   "outputs": [],
   "source": [
    "import numpy as np\n",
    "import pandas as pd\n",
    "import requests\n",
    "from bs4 import BeautifulSoup\n",
    "import geocoder"
   ]
  },
  {
   "cell_type": "markdown",
   "metadata": {},
   "source": [
    "Making a beautifulsoup object given the site link."
   ]
  },
  {
   "cell_type": "code",
   "execution_count": 2,
   "metadata": {},
   "outputs": [],
   "source": [
    "URL = 'https://en.wikipedia.org/w/index.php?title=List_of_postal_codes_of_Canada:_M&direction=prev&oldid=926287641'\n",
    "page = requests.get(URL)\n",
    "\n",
    "soup = BeautifulSoup(page.content, 'html.parser')"
   ]
  },
  {
   "cell_type": "markdown",
   "metadata": {},
   "source": [
    "Finding the table in the html code."
   ]
  },
  {
   "cell_type": "code",
   "execution_count": 3,
   "metadata": {},
   "outputs": [],
   "source": [
    "table=soup.find('table')"
   ]
  },
  {
   "cell_type": "markdown",
   "metadata": {},
   "source": [
    "Creating an inital rough table with all the details."
   ]
  },
  {
   "cell_type": "code",
   "execution_count": 4,
   "metadata": {},
   "outputs": [],
   "source": [
    "table_contents=[]\n",
    "for row in table.findAll('tr')[1:]:\n",
    "    cell = {}\n",
    "    if row.findAll('td')[1:2][0].text=='Not assigned':     ## If 'Borough' is 'Not assigned' then we simply ignore the row\n",
    "        pass\n",
    "    else:\n",
    "        cell['PostalCode'] = row.td.text[:3]\n",
    "        cell['Borough'] = row.findAll('td')[1:2][0].text.strip(\"\\n\")\n",
    "        \n",
    "        ## If 'Neighborhood' is 'Not assigned' then we give it the value from 'Borough'\n",
    "        if row.findAll('td')[2:3][0].text == 'Not assigned\\n':\n",
    "            cell['Neighborhood'] = row.findAll('td')[1:2][0].text.strip(\"\\n\")\n",
    "        else:\n",
    "            cell['Neighborhood'] = row.findAll('td')[2:3][0].text.strip(\"\\n\")\n",
    "        \n",
    "        ## Appending it to the list\n",
    "        table_contents.append(cell)"
   ]
  },
  {
   "cell_type": "markdown",
   "metadata": {},
   "source": [
    "Converting list to dataframes."
   ]
  },
  {
   "cell_type": "code",
   "execution_count": 5,
   "metadata": {},
   "outputs": [],
   "source": [
    "df=pd.DataFrame(table_contents)"
   ]
  },
  {
   "cell_type": "markdown",
   "metadata": {},
   "source": [
    "Combining cells with same 'Postal Code'."
   ]
  },
  {
   "cell_type": "code",
   "execution_count": 6,
   "metadata": {},
   "outputs": [
    {
     "name": "stdout",
     "output_type": "stream",
     "text": [
      "  PostalCode           Borough                      Neighborhood\n",
      "0        M3A        North York                         Parkwoods\n",
      "1        M4A        North York                  Victoria Village\n",
      "2        M5A  Downtown Toronto         Harbourfront, Regent Park\n",
      "3        M6A        North York  Lawrence Heights, Lawrence Manor\n",
      "4        M7A      Queen's Park                      Queen's Park\n",
      "5        M9A         Etobicoke                  Islington Avenue\n",
      "6        M1B       Scarborough                    Rouge, Malvern\n",
      "7        M3B        North York                   Don Mills North\n",
      "8        M4B         East York   Woodbine Gardens, Parkview Hill\n",
      "9        M5B  Downtown Toronto          Ryerson, Garden District\n"
     ]
    }
   ],
   "source": [
    "df['Neighborhood'] = df.groupby(['PostalCode', 'Borough'])['Neighborhood'].transform(lambda x: ', '.join(x))\n",
    "df = df.drop_duplicates()\n",
    "df = df.reset_index()\n",
    "df.drop(['index'], axis=1, inplace=True)\n",
    "print(df.head(10))"
   ]
  },
  {
   "cell_type": "markdown",
   "metadata": {},
   "source": [
    "Printing the shape."
   ]
  },
  {
   "cell_type": "code",
   "execution_count": 7,
   "metadata": {},
   "outputs": [
    {
     "name": "stdout",
     "output_type": "stream",
     "text": [
      "(103, 3)\n"
     ]
    }
   ],
   "source": [
    "print(df.shape)"
   ]
  },
  {
   "cell_type": "markdown",
   "metadata": {},
   "source": [
    "# Part 2 - Finding Coordinates"
   ]
  },
  {
   "cell_type": "markdown",
   "metadata": {},
   "source": [
    "Creating a function to get latitude and longitude value given postal code."
   ]
  },
  {
   "cell_type": "code",
   "execution_count": 8,
   "metadata": {},
   "outputs": [
    {
     "name": "stdout",
     "output_type": "stream",
     "text": [
      "  Postal Code   Latitude  Longitude\n",
      "0         M1B  43.806686 -79.194353\n",
      "1         M1C  43.784535 -79.160497\n",
      "2         M1E  43.763573 -79.188711\n",
      "3         M1G  43.770992 -79.216917\n",
      "4         M1H  43.773136 -79.239476\n"
     ]
    }
   ],
   "source": [
    "geoSpatial = pd.read_csv('Geospatial_Coordinates.csv')\n",
    "print(geoSpatial.head(5))"
   ]
  },
  {
   "cell_type": "markdown",
   "metadata": {},
   "source": [
    "Creating two lists with information regarding the coordinates. So that we can add the lists as columns to the existing table."
   ]
  },
  {
   "cell_type": "code",
   "execution_count": 9,
   "metadata": {},
   "outputs": [],
   "source": [
    "Latitude = []\n",
    "Longitude = []\n",
    "\n",
    "for index, row in df.iterrows():\n",
    "    postal_code = row['PostalCode']\n",
    "    Latitude.append(geoSpatial.loc[geoSpatial['Postal Code']==postal_code]['Latitude'].iloc[0])    \n",
    "    Longitude.append(geoSpatial.loc[geoSpatial['Postal Code']==postal_code]['Longitude'].iloc[0])"
   ]
  },
  {
   "cell_type": "code",
   "execution_count": 10,
   "metadata": {},
   "outputs": [],
   "source": [
    "df['Longitude'] = Longitude\n",
    "df['Latitude'] = Latitude"
   ]
  },
  {
   "cell_type": "markdown",
   "metadata": {},
   "source": [
    "Printing Final Table"
   ]
  },
  {
   "cell_type": "code",
   "execution_count": 11,
   "metadata": {},
   "outputs": [
    {
     "name": "stdout",
     "output_type": "stream",
     "text": [
      "  PostalCode           Borough                      Neighborhood  Longitude  \\\n",
      "0        M3A        North York                         Parkwoods -79.329656   \n",
      "1        M4A        North York                  Victoria Village -79.315572   \n",
      "2        M5A  Downtown Toronto         Harbourfront, Regent Park -79.360636   \n",
      "3        M6A        North York  Lawrence Heights, Lawrence Manor -79.464763   \n",
      "4        M7A      Queen's Park                      Queen's Park -79.389494   \n",
      "5        M9A         Etobicoke                  Islington Avenue -79.532242   \n",
      "6        M1B       Scarborough                    Rouge, Malvern -79.194353   \n",
      "7        M3B        North York                   Don Mills North -79.352188   \n",
      "8        M4B         East York   Woodbine Gardens, Parkview Hill -79.309937   \n",
      "9        M5B  Downtown Toronto          Ryerson, Garden District -79.378937   \n",
      "\n",
      "    Latitude  \n",
      "0  43.753259  \n",
      "1  43.725882  \n",
      "2  43.654260  \n",
      "3  43.718518  \n",
      "4  43.662301  \n",
      "5  43.667856  \n",
      "6  43.806686  \n",
      "7  43.745906  \n",
      "8  43.706397  \n",
      "9  43.657162  \n"
     ]
    }
   ],
   "source": [
    "print(df.head(10))"
   ]
  }
 ],
 "metadata": {
  "kernelspec": {
   "display_name": "Python 3",
   "language": "python",
   "name": "python3"
  },
  "language_info": {
   "codemirror_mode": {
    "name": "ipython",
    "version": 3
   },
   "file_extension": ".py",
   "mimetype": "text/x-python",
   "name": "python",
   "nbconvert_exporter": "python",
   "pygments_lexer": "ipython3",
   "version": "3.8.5"
  }
 },
 "nbformat": 4,
 "nbformat_minor": 4
}
